{
 "cells": [
  {
   "cell_type": "code",
   "execution_count": 2,
   "id": "ddbf3621",
   "metadata": {
    "height": 421
   },
   "outputs": [
    {
     "name": "stdout",
     "output_type": "stream",
     "text": [
      "Enter the radius of the cylinder: 6\n",
      "Enter the height of the cylinder: 3\n",
      "Volume of the cylinder: 339.29172\n"
     ]
    }
   ],
   "source": [
    "import openai\n",
    "\n",
    "def cylinder_volume(radius, height):\n",
    "    return 3.14159 * radius ** 2 * height\n",
    "\n",
    "def get_user_input():\n",
    "    try:\n",
    "        radius = float(input(\"Enter the radius of the cylinder: \"))\n",
    "        height = float(input(\"Enter the height of the cylinder: \"))\n",
    "        return radius, height\n",
    "    except ValueError:\n",
    "        return None, None\n",
    "\n",
    "def chat_completion_system():\n",
    "    radius, height = get_user_input()\n",
    "    if radius is not None and height is not None:\n",
    "        result = cylinder_volume(radius, height)\n",
    "        print(f\"Volume of the cylinder: {result}\")\n",
    "    else:\n",
    "        print(\"Invalid input. Please enter numeric values.\")\n",
    "\n",
    "if __name__ == \"__main__\":\n",
    "    chat_completion_system()\n"
   ]
  }
 ],
 "metadata": {
  "kernelspec": {
   "display_name": "Python 3 (ipykernel)",
   "language": "python",
   "name": "python3"
  },
  "language_info": {
   "codemirror_mode": {
    "name": "ipython",
    "version": 3
   },
   "file_extension": ".py",
   "mimetype": "text/x-python",
   "name": "python",
   "nbconvert_exporter": "python",
   "pygments_lexer": "ipython3",
   "version": "3.9.19"
  }
 },
 "nbformat": 4,
 "nbformat_minor": 5
}
